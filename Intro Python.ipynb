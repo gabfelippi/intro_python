{
 "cells": [
  {
   "cell_type": "markdown",
   "metadata": {},
   "source": [
    "### 1\n",
    "Considere o seguinte enunciado: as maçãs custam 2.30 reais cada se forem compradas menos de uma dúzia, e 2.00 reais se forem compradas pelo menos 12 (doze) unidades. Escreva um programa Python que solicite ao usuário o número de maçãs compradas, calcule e escreva (imprima na tela) o custo total da compra."
   ]
  },
  {
   "cell_type": "code",
   "execution_count": null,
   "metadata": {},
   "outputs": [],
   "source": [
    "compra = int(input(\"Quantas maçãs você deseja comprar? \"))\n",
    "if compra < 12:\n",
    "    custo = compra * 2.30\n",
    "else:\n",
    "    custo = compra * 2.00\n",
    "\n",
    "print(f\"As maçãs custaram R$ {custo:.2f}.\")"
   ]
  },
  {
   "cell_type": "markdown",
   "metadata": {},
   "source": [
    "### 2\n",
    "Escreva um programa Python que solicite ao usuário o número de litros vendidos e o tipo de combustível (codificado da seguinte forma: A-álcool, G-gasolina), calcule e escreva o valor a ser pago pelo cliente sabendo-se que o preço do litro da gasolina é 3.70 reais e o preço do litro do álcool é 2.90 reais."
   ]
  },
  {
   "cell_type": "code",
   "execution_count": null,
   "metadata": {},
   "outputs": [],
   "source": [
    "venda = float(input(\"Quantos litros serão abastecidos?\"))\n",
    "comb = str(input('Qual combustível? Se álcool, digite \"A\", se gasolina, digite \"G\". '))\n",
    "comb = comb.lower()\n",
    "if comb == \"a\":\n",
    "    custo = venda * 3.7\n",
    "    print(f\"O custo do abastecimento é de R$ {custo:.2f}.\")\n",
    "elif comb == \"g\":\n",
    "    custo = venda * 2.9\n",
    "    print(f\"O custo do abastecimento é de R$ {custo:.2f}.\")\n",
    "else:\n",
    "    print(\"Por favor, insira as informações adequadamente.\")"
   ]
  },
  {
   "cell_type": "markdown",
   "metadata": {},
   "source": [
    "### 3\n",
    "Considere a seguinte fórmula: $VF = VP (1 + i)^n$, onde *VF = Valor Futuro*, *VP = Valor Presente*, *i = taxa de juros* e *n = período* (em meses). Crie um programa em Python em que o usuário possa fornecer todas as variáveis acima (com exceção da VF, que será calculada). O usuário poderá escolher uma de três opções de cenários temporais predefinidos (2, 3 e 4 meses). Ou seja, o algoritmo deve simular o valor futuro (valor que o cliente terá lá na frente) com base na taxa de juros e no período escolhido."
   ]
  },
  {
   "cell_type": "code",
   "execution_count": null,
   "metadata": {},
   "outputs": [],
   "source": [
    "vi = float(input(\"Insira o valor inicial: \"))\n",
    "n = int(input(\"Insira se deseja retirar o valor em 2, 3 ou 4 meses (apenas número): \"))\n",
    "i = float(input(\"Insira a taxa de juros sem o símbolo de %:\"))\n",
    "\n",
    "i = i / 100 #converter percentual em decimal  \n",
    "\n",
    "if n == 2 or n == 3 or n == 4:\n",
    "    i_total = (1 + i)**n\n",
    "    vf = vi * i_total\n",
    "    print(f\"O valor final a ser resgatado é de R$ {vf:.2f}.\")\n",
    "else:\n",
    "    print(\"Por favor, insira as informações adequadamente.\")"
   ]
  },
  {
   "cell_type": "markdown",
   "metadata": {},
   "source": [
    "### 4\n",
    "Utilizando a estrutura de repetição `for` construa um programa Python que calcule o fatorial de um número N inteiro e positivo (*N!*), a ser fornecido pelo usuário. Lembrando que $N! = N * (N-1) * (N-2) * (N-3) ... * 1$. Importante também lembrar que _0! = 1_. Se o usuário fornecer um número negativo, nenhum cálculo deverá ser efetuado e uma mensagem informativa de erro deve ser mostrada."
   ]
  },
  {
   "cell_type": "code",
   "execution_count": null,
   "metadata": {},
   "outputs": [],
   "source": [
    "fator = int(input(\"Insira o número que deseje fatorar:\"))\n",
    "\n",
    "n = 1\n",
    "\n",
    "if fator < 0:\n",
    "    print(\"Você não pode fatorar um número negativo!\")\n",
    "else:\n",
    "    for i in range(1, fator + 1):\n",
    "        n = n * i\n",
    "print(f\"O fatorial de {fator} é {n}.\")"
   ]
  },
  {
   "cell_type": "markdown",
   "metadata": {},
   "source": [
    "### 5\n",
    "Construa um programa Python que imprima os 15 primeiros **números de Fibonacci**. Considere que os dois primeiros números são respectivamente **0** e **1**. Lembrando que na sequência de Fibonacci um número é composto pela **soma dos dois números anteriores**. Assim sendo, o terceiro número será _0 + 1_, que é igual a 1. **Importante:** utilize a estrutura de repetição `for`. "
   ]
  },
  {
   "cell_type": "code",
   "execution_count": null,
   "metadata": {},
   "outputs": [],
   "source": [
    "a = 0\n",
    "b = 1\n",
    "\n",
    "for i in range(15):\n",
    "    print(a)\n",
    "    count = a + b\n",
    "    a = b\n",
    "    b = count"
   ]
  },
  {
   "cell_type": "markdown",
   "id": "c656037a",
   "metadata": {},
   "source": [
    "### 6\n",
    "Construa um programa Python para um sistema de controle de estoque que armazena **nome, quantidade em estoque e preço unitário** de algumas mercadorias. Faça um menu que exiba as seguintes opções:\n",
    "\n",
    "`\tMenu\n",
    "\t1 – Cadastra mercadorias\n",
    "\t2 – Exibe valor total do estoque da empresa\n",
    "\t3 – Sair\n",
    "\tOpção:`\n",
    "    \n",
    "Você pode utilizar estruturas de repetição já vistas para manter o menu aparecendo na tela. Também pode usar listas, tuplas ou dicionários para armazenar os nomes, quantidade em estoque e preços de cada mercadoria."
   ]
  },
  {
   "cell_type": "code",
   "execution_count": null,
   "metadata": {},
   "outputs": [],
   "source": [
    "nome = []\n",
    "qtde = []\n",
    "preco = []\n",
    "op = 0\n",
    "i = 0\n",
    "\n",
    "while op not in [1, 2, 3]:\n",
    "    op = int(input(\"Menu:\\n1 - Cadastrar produto\\n2 – Valor total do estoque\\n3 – sair\\n Digite a opção: \"))\n",
    "    if op not in [1, 2, 3]:\n",
    "        print(\"Você deve inserir apenas as opções 1, 2 ou 3.\")\n",
    "    elif op == 1:\n",
    "        nome.append(str(input(\"Insira o nome do produto: \")))\n",
    "        qtde.append(int(input(\"Insira a quantidade: \")))\n",
    "        preco.append(float(input(\"Insira o preço: \")))\n",
    "        op = 0\n",
    "    elif op == 2:\n",
    "        stock = 0\n",
    "        stock = sum(qtde[i]*preco[i] for i in range(i, len(nome)))\n",
    "        print(f\"O valor total do estoque é de {stock}.\")\n",
    "        op = 0\n",
    "    else:\n",
    "        break"
   ]
  },
  {
   "cell_type": "markdown",
   "id": "f087f9bf",
   "metadata": {},
   "source": [
    "### 7\n",
    "Construa um programa Python que peça ao usuário os valores dos fatores **a**, **b** e **c** de uma equação do segundo grau, e apresente as suas raízes.\n",
    "\n",
    "Uma equação do segundo grau é dada por $ax^2 + bx + c = 0$. As raízes de uma equação do segundo grau são dadas por $x' = \\frac{-b + \\sqrt{\\Delta}}{2a}$ e\n",
    "$x'' = \\frac{-b - \\sqrt{\\Delta}}{2a}$. O valor de $\\Delta$ (_delta_) é dado por $\\Delta = b^2 - 4ac$.\n",
    "\n",
    "***Importante lembrar que***:\n",
    "1. se o valor de $\\Delta$ é negativo, a equação **não possui raízes reais** e por isso o programa deve interromper o processo informando o fato ao usuário;\n",
    "2. se, por outro lado, o valor de $\\Delta$ for nulo, existirá apenas uma raíz, sendo que o fato deverá ser informado ao usuário, mostrando apenas esta raíz única;\n",
    "3. se o fator **a** for igual a zero, então não se trata de uma equação do segundo grau, caso em que o usuário deverá ser informado e o valor novamente pedido.\n",
    "\n",
    "Em Python o cálculo da raiz quadrada de um número é dado pela função `sqrt()`, fornecido pelo _package_ `math` e está exemplificado na célula a seguir."
   ]
  },
  {
   "cell_type": "code",
   "execution_count": null,
   "metadata": {},
   "outputs": [],
   "source": [
    "a = 0\n",
    "while a == 0:\n",
    "    a = float(input('Insira o valor de \"a\": '))\n",
    "    if a == 0:\n",
    "        print('Se o valor de \"a\" é zero, esta não é uma equação de segundo grau.')\n",
    "b = float(input('Insira o valor de \"b\": '))\n",
    "c = float(input('Insira o valor de \"c\": '))\n",
    "delta = b**2 - 4 * a * c\n",
    "print(f'Delta = {delta}')\n",
    "if delta < 0:\n",
    "    print(f\"O valor de delta é negativo, portanto não há raízes para esta equação.\")\n",
    "elif delta == 0:\n",
    "    print(f\"O valor de delta é zero, portanto há apenas uma raiz nesta equação.\")\n",
    "    x = (-b + delta**0.5)/(2*a)\n",
    "    print(f'x = {x:.2f}')\n",
    "else:\n",
    "    x1 = (-b + delta**0.5)/(2*a)\n",
    "    x2 = (-b - delta**0.5)/(2*a)\n",
    "    print(f'x1 = {x1:.2f}  x2 = {x2:.2f}')"
   ]
  },
  {
   "cell_type": "markdown",
   "metadata": {},
   "source": [
    "### 8\n",
    "Construa um programa Python que peça uma frase ao usuário e faça uma análise de sentimentos com base na presença de certas palavras segundo a tabela de léxico de sentimentos a seguir:\n",
    "\n",
    "| Sentimento | Termos |\n",
    "|------------|------------|\n",
    "| Alegria     | feliz, alegre, contente, exultante, regozijado, eufórico, jubiloso, regozijada, eufórica, jubilosa |\n",
    "| Tristeza   | triste, infeliz, descontente, decepcionado, desanimado, abatido, desconsolado, desolado, pesaroso, padecido, enlutado, magoado, desgostoso, sofrido, aflito, angustiado, consternado, amargurado, dolorido, desolado, pesaroso, mortificado, decepcionada, desanimada, abatida, desconsolada, desolada, pesarosa, padecida, enlutada, magoada, desgostosa, sofrida, aflita, angustiada, consternada, amargurada, dolorida, desolada, pesarosa, mortificada |\n",
    "\n",
    "A análise deve ser feita pela **contagem da presença de palavras** que caracterizam os sentimentos. A quantidade de palavras de cada sentimento corresponde à intensidade do sentimento total, ou seja, o _score_ de sentimento da frase. Se o _score_ for nulo, a frase deve ser considerada de sentimento **Neutro**, do contrário, deve corresponder ao sentimento preponderante. Ao final da análise, o sentimento (`Alegria`, `Tristeza` ou `Neutro`) deverá ser mostrado junto com sua intensidade (valor do _score_)."
   ]
  },
  {
   "cell_type": "code",
   "execution_count": null,
   "metadata": {},
   "outputs": [],
   "source": [
    "frase = str(input('Digite uma frase completa: '))\n",
    "frase = frase.lower()\n",
    "scorep = frase.count('feliz') + frase.count('alegre') + frase.count('contente') + frase.count('exultante') + frase.count('regozijado') + frase.count('eufórico') + frase.count('jubiloso') + frase.count('regozijada') + frase.count('eufórica') + frase.count('jubilosa')\n",
    "scoren = frase.count('triste') + frase.count('infeliz') + frase.count('descontente') + frase.count('decepcionado') + frase.count('desanimado') + frase.count('abatido') + frase.count('desconsolado') + frase.count('desolado') + frase.count('pesaroso') + frase.count('padecido') + frase.count('enlutado') + frase.count('magoado') + frase.count('desgostoso') + frase.count('sofrido') + frase.count('aflito') + frase.count('angustiado') + frase.count('consternado') + frase.count('amargurado') + frase.count('dolorido') + frase.count('desolado') + frase.count('pesaroso') + frase.count('mortificado') + frase.count('decepcionada') + frase.count('desanimada') + frase.count('abatida') + frase.count('desconsolada') + frase.count('desolada') + frase.count('pesarosa') + frase.count('padecida') + frase.count('enlutada') + frase.count('magoada') + frase.count('desgostosa') + frase.count('sofrida') + frase.count('aflita') + frase.count('angustiada') + frase.count('consternada') + frase.count('amargurada') + frase.count('dolorida') + frase.count('desolada') + frase.count('pesarosa') + frase.count('mortificada')\n",
    "scoref = scorep - scoren\n",
    "if scoref > 0:\n",
    "\tfrase = \"alegre\"\n",
    "\tprint(f\"A frase é {frase}, com {scoref} ponto(s) de alegria.\")\n",
    "elif scoref < 0:\n",
    "\tfrase = \"triste\"\n",
    "\tprint(f\"A frase é {frase}, com {scoref*-1} ponto(s) de tristeza.\")\n",
    "else:\n",
    "\tfrase = \"neutra\"\n",
    "\tprint(f\"A frase é {frase}.\")"
   ]
  },
  {
   "cell_type": "markdown",
   "metadata": {},
   "source": [
    "### 9\n",
    "Construa um programa em Python que leia várias linhas de um texto. O usuário indicará que o texto está completo quando fornecer uma linha contendo a marcador `$FIM`. Em seguida o programa deve solicitar uma palavra a ser procurada dentro do texto. Se nenhuma palavra for fornecida, a execução deve ser interrompida, caso contrário o programa deverá procurar no texto informado a palavra digitada e contar a quantidade de ocorrências, para ao final mostrá-la."
   ]
  },
  {
   "cell_type": "code",
   "execution_count": null,
   "metadata": {},
   "outputs": [],
   "source": [
    "linha = str(input('Adicione uma linha ao texto ou digite \"$FIM\" para finalizar: '))\n",
    "texto = []\n",
    "while linha != '$FIM':\n",
    "    texto.append(linha)\n",
    "    texto.append(\"\\n\")\n",
    "    linha = str(input('Adicione mais uma linha ao texto ou digite \"$FIM\" para finalizar: '))\n",
    "texto = ''.join(texto)\n",
    "print(\"TEXTO FINALIZADO\")\n",
    "print(texto)\n",
    "op = str(input(\"Deseja procurar uma palavra dentro do texto? [S/N] \")).lower()\n",
    "if op == \"s\":\n",
    "    palavra = str(input(\"Qual palavra você deseja encontrar? \"))\n",
    "    num = texto.lower().split().count(palavra.lower())\n",
    "    print(f'A palavra \"{palavra}\" aparece {num} vez(es) no texto.')"
   ]
  },
  {
   "cell_type": "markdown",
   "metadata": {},
   "source": [
    "### 10\n",
    "Construa um programa em Python que faça as seguintes perguntas ao usuário:\n",
    "\n",
    "`Conversou a vítima?\n",
    " Esteve no local do crime?\n",
    " Você foi ameaçado pela vítima?\n",
    " Reside perto da vítima?\n",
    " Tinha algum débito para com a vítima?\n",
    " A vítima tinha débitos com você?\n",
    " Tinha um desentendimento com a vítima?`\n",
    "\n",
    "O programa deve no final emitir uma classificação sobre a participação da pessoa no crime. Se a pessoa responder positivamente a até 40% das questões ela deve ser classificada como `Suspeita`, entre 41% e 70% como `Cúmplice` e acima de 70%  como `Assassino`. Caso contrário, ele será classificado como `Inocente`."
   ]
  },
  {
   "cell_type": "code",
   "execution_count": null,
   "metadata": {},
   "outputs": [],
   "source": [
    "s = 0\n",
    "print('Responda as pergundas a seguir com \"sim\" ou \"não\":')\n",
    "p1 = str(input('Você conversou com a vítima? '))\n",
    "if p1 == 'sim':\n",
    "    s += 1\n",
    "p2 = str(input('Você esteve no local do crime? '))\n",
    "if p2 == 'sim':\n",
    "    s += 1\n",
    "p3 = str(input('Você foi ameaçado pela vítima? '))\n",
    "if p3 == 'sim':\n",
    "    s += 1\n",
    "p4 = str(input('Você reside/residia perto da vítima? '))\n",
    "if p4 == 'sim':\n",
    "    s += 1\n",
    "p5 = str(input('Você tinha algum débito para com a vítima? '))\n",
    "if p5 == 'sim':\n",
    "    s += 1\n",
    "p6 = str(input('A vítima tinha débitos com você? '))\n",
    "if p6 == 'sim':\n",
    "    s += 1\n",
    "p7 = str(input('Você tinha um desentendimento com a vítima? '))\n",
    "if p7 == 'sim':\n",
    "    s += 1\n",
    "s = (s/7)*100\n",
    "if s > 70:\n",
    "    c = 'Assassino(a)'\n",
    "elif 40 < s <= 70:\n",
    "    c = 'Cúmplice'\n",
    "elif s == 0:\n",
    "    c = 'Inocente'\n",
    "else:\n",
    "    c = 'Suspeito(a)'\n",
    "print(f'Com {s:.2f}% das perguntas respondidas positivamente, você é considerado(a) {c}')"
   ]
  }
 ],
 "metadata": {
  "kernelspec": {
   "display_name": "Python 3",
   "language": "python",
   "name": "python3"
  },
  "language_info": {
   "codemirror_mode": {
    "name": "ipython",
    "version": 3
   },
   "file_extension": ".py",
   "mimetype": "text/x-python",
   "name": "python",
   "nbconvert_exporter": "python",
   "pygments_lexer": "ipython3",
   "version": "3.8.5"
  }
 },
 "nbformat": 4,
 "nbformat_minor": 5
}
